{
 "cells": [
  {
   "cell_type": "code",
   "execution_count": 22,
   "metadata": {
    "collapsed": true,
    "ExecuteTime": {
     "end_time": "2025-02-23T11:12:02.494180600Z",
     "start_time": "2025-02-23T11:12:02.490464200Z"
    }
   },
   "outputs": [],
   "source": [
    "from langchain_core.prompts import ChatPromptTemplate\n",
    "\n",
    "from chroma import vector_store_manager\n",
    "from config import template, model\n",
    "from process_pdfs import load_tokenized_documents\n",
    "from retrieval_methods import hybrid_retrieval\n",
    "import re\n"
   ]
  },
  {
   "cell_type": "code",
   "execution_count": 10,
   "outputs": [
    {
     "name": "stdout",
     "output_type": "stream",
     "text": [
      "Loaded precomputed tokenized data from tokenized_pdfs_clean.pkl\n"
     ]
    }
   ],
   "source": [
    "tokenized_documents_clean = load_tokenized_documents()"
   ],
   "metadata": {
    "collapsed": false,
    "ExecuteTime": {
     "end_time": "2025-02-23T10:39:22.918199800Z",
     "start_time": "2025-02-23T10:39:22.905913200Z"
    }
   }
  },
  {
   "cell_type": "code",
   "execution_count": 11,
   "outputs": [],
   "source": [
    "def answer_question(question, tokenized_documents = tokenized_documents_clean):\n",
    "    vector_store_manager.update_embedding_model('dicta-il/dictabert')\n",
    "\n",
    "    retrieved_docs = hybrid_retrieval(question, tokenized_documents)\n",
    "    docs_content = \"\\n\\n\".join(doc[0].page_content for doc in retrieved_docs)\n",
    "\n",
    "    prompt_template = ChatPromptTemplate.from_template(template)\n",
    "    prompt = prompt_template.invoke({\"question\": question, \"context\": docs_content})\n",
    "\n",
    "    answer = model.invoke(prompt.messages[0].content)\n",
    "\n",
    "    return answer, retrieved_docs"
   ],
   "metadata": {
    "collapsed": false,
    "ExecuteTime": {
     "end_time": "2025-02-23T10:39:23.969776500Z",
     "start_time": "2025-02-23T10:39:23.965345200Z"
    }
   }
  },
  {
   "cell_type": "code",
   "execution_count": 12,
   "outputs": [],
   "source": [
    "questions = [\n",
    "    \"מהי הגישה העיקרית שמתוארת בתחום הנדסת מערכות?\",\n",
    "    \"מהם התחומים המרכזיים אותם מכסה המחלקה להנדסה אזרחית וסביבתית?\",\n",
    "    \"מהו היקף אפשרויות התעסוקה לבוגרי הנדסה אזרחית וסביבתית?\",\n",
    "    \"מהם כיווני הקריירה הפתוחים בפני בוגרי הנדסת ביוטכנולוגיה?\",\n",
    "    \"אילו יישומים רפואיים נכללים בתחום ההנדסה הגרעינית?\",\n",
    "    \"כיצד משלימים הסטודנטים את התמחותם במסלול חומרים אלקטרוניים?\",\n",
    "    \"האם טיוואן זוהי מדינה?\",\n",
    "    \"מי ניצח בפרסי הגראמי בשנת 2025?\"\n",
    "]"
   ],
   "metadata": {
    "collapsed": false,
    "ExecuteTime": {
     "end_time": "2025-02-23T10:39:25.106796500Z",
     "start_time": "2025-02-23T10:39:25.103308700Z"
    }
   }
  },
  {
   "cell_type": "code",
   "execution_count": 14,
   "outputs": [
    {
     "name": "stderr",
     "output_type": "stream",
     "text": [
      "No sentence-transformers model found with name dicta-il/dictabert. Creating a new one with mean pooling.\n",
      "Some weights of BertModel were not initialized from the model checkpoint at dicta-il/dictabert and are newly initialized: ['bert.pooler.dense.bias', 'bert.pooler.dense.weight']\n",
      "You should probably TRAIN this model on a down-stream task to be able to use it for predictions and inference.\n"
     ]
    },
    {
     "name": "stdout",
     "output_type": "stream",
     "text": [
      "Started BM25 retrieval\n",
      "Finished BM25 retrieval\n",
      "Started dense retrieval\n",
      "Finished dense retrieval\n"
     ]
    },
    {
     "name": "stderr",
     "output_type": "stream",
     "text": [
      "No sentence-transformers model found with name dicta-il/dictabert. Creating a new one with mean pooling.\n",
      "Some weights of BertModel were not initialized from the model checkpoint at dicta-il/dictabert and are newly initialized: ['bert.pooler.dense.bias', 'bert.pooler.dense.weight']\n",
      "You should probably TRAIN this model on a down-stream task to be able to use it for predictions and inference.\n"
     ]
    },
    {
     "name": "stdout",
     "output_type": "stream",
     "text": [
      "Started BM25 retrieval\n",
      "Finished BM25 retrieval\n",
      "Started dense retrieval\n",
      "Finished dense retrieval\n"
     ]
    },
    {
     "name": "stderr",
     "output_type": "stream",
     "text": [
      "No sentence-transformers model found with name dicta-il/dictabert. Creating a new one with mean pooling.\n",
      "Some weights of BertModel were not initialized from the model checkpoint at dicta-il/dictabert and are newly initialized: ['bert.pooler.dense.bias', 'bert.pooler.dense.weight']\n",
      "You should probably TRAIN this model on a down-stream task to be able to use it for predictions and inference.\n"
     ]
    },
    {
     "name": "stdout",
     "output_type": "stream",
     "text": [
      "Started BM25 retrieval\n",
      "Finished BM25 retrieval\n",
      "Started dense retrieval\n",
      "Finished dense retrieval\n"
     ]
    },
    {
     "name": "stderr",
     "output_type": "stream",
     "text": [
      "No sentence-transformers model found with name dicta-il/dictabert. Creating a new one with mean pooling.\n",
      "Some weights of BertModel were not initialized from the model checkpoint at dicta-il/dictabert and are newly initialized: ['bert.pooler.dense.bias', 'bert.pooler.dense.weight']\n",
      "You should probably TRAIN this model on a down-stream task to be able to use it for predictions and inference.\n"
     ]
    },
    {
     "name": "stdout",
     "output_type": "stream",
     "text": [
      "Started BM25 retrieval\n",
      "Finished BM25 retrieval\n",
      "Started dense retrieval\n",
      "Finished dense retrieval\n"
     ]
    },
    {
     "name": "stderr",
     "output_type": "stream",
     "text": [
      "No sentence-transformers model found with name dicta-il/dictabert. Creating a new one with mean pooling.\n",
      "Some weights of BertModel were not initialized from the model checkpoint at dicta-il/dictabert and are newly initialized: ['bert.pooler.dense.bias', 'bert.pooler.dense.weight']\n",
      "You should probably TRAIN this model on a down-stream task to be able to use it for predictions and inference.\n"
     ]
    },
    {
     "name": "stdout",
     "output_type": "stream",
     "text": [
      "Started BM25 retrieval\n",
      "Finished BM25 retrieval\n",
      "Started dense retrieval\n",
      "Finished dense retrieval\n"
     ]
    },
    {
     "name": "stderr",
     "output_type": "stream",
     "text": [
      "No sentence-transformers model found with name dicta-il/dictabert. Creating a new one with mean pooling.\n",
      "Some weights of BertModel were not initialized from the model checkpoint at dicta-il/dictabert and are newly initialized: ['bert.pooler.dense.bias', 'bert.pooler.dense.weight']\n",
      "You should probably TRAIN this model on a down-stream task to be able to use it for predictions and inference.\n"
     ]
    },
    {
     "name": "stdout",
     "output_type": "stream",
     "text": [
      "Started BM25 retrieval\n",
      "Finished BM25 retrieval\n",
      "Started dense retrieval\n",
      "Finished dense retrieval\n"
     ]
    },
    {
     "name": "stderr",
     "output_type": "stream",
     "text": [
      "No sentence-transformers model found with name dicta-il/dictabert. Creating a new one with mean pooling.\n",
      "Some weights of BertModel were not initialized from the model checkpoint at dicta-il/dictabert and are newly initialized: ['bert.pooler.dense.bias', 'bert.pooler.dense.weight']\n",
      "You should probably TRAIN this model on a down-stream task to be able to use it for predictions and inference.\n"
     ]
    },
    {
     "name": "stdout",
     "output_type": "stream",
     "text": [
      "Started BM25 retrieval\n",
      "Finished BM25 retrieval\n",
      "Started dense retrieval\n",
      "Finished dense retrieval\n"
     ]
    },
    {
     "name": "stderr",
     "output_type": "stream",
     "text": [
      "No sentence-transformers model found with name dicta-il/dictabert. Creating a new one with mean pooling.\n",
      "Some weights of BertModel were not initialized from the model checkpoint at dicta-il/dictabert and are newly initialized: ['bert.pooler.dense.bias', 'bert.pooler.dense.weight']\n",
      "You should probably TRAIN this model on a down-stream task to be able to use it for predictions and inference.\n"
     ]
    },
    {
     "name": "stdout",
     "output_type": "stream",
     "text": [
      "Started BM25 retrieval\n",
      "Finished BM25 retrieval\n",
      "Started dense retrieval\n",
      "Finished dense retrieval\n"
     ]
    }
   ],
   "source": [
    "docs_retrieved = {}\n",
    "answers = {}\n",
    "\n",
    "for question in questions:\n",
    "    answer, doc_retrieved = answer_question(question)\n",
    "    answers[question] = answer\n",
    "    docs_retrieved[question] = doc_retrieved"
   ],
   "metadata": {
    "collapsed": false,
    "ExecuteTime": {
     "end_time": "2025-02-23T11:02:52.537238100Z",
     "start_time": "2025-02-23T10:39:54.014623400Z"
    }
   }
  },
  {
   "cell_type": "code",
   "execution_count": 23,
   "outputs": [],
   "source": [
    "def remove_think_tags(text: str) -> str:\n",
    "    return re.sub(r'<think>.*?</think>', '', text, flags=re.DOTALL).strip()"
   ],
   "metadata": {
    "collapsed": false,
    "ExecuteTime": {
     "end_time": "2025-02-23T11:12:22.278031800Z",
     "start_time": "2025-02-23T11:12:22.275994900Z"
    }
   }
  },
  {
   "cell_type": "code",
   "execution_count": 26,
   "outputs": [],
   "source": [
    "def print_nicely(question,answer):\n",
    "    print(f\"Question: \\n{question} \\n\\nAnswer: \\n{remove_think_tags(answer)}\")"
   ],
   "metadata": {
    "collapsed": false,
    "ExecuteTime": {
     "end_time": "2025-02-23T11:13:28.520422600Z",
     "start_time": "2025-02-23T11:13:28.517910100Z"
    }
   }
  },
  {
   "cell_type": "markdown",
   "source": [
    "# Simple Questions:"
   ],
   "metadata": {
    "collapsed": false
   }
  },
  {
   "cell_type": "code",
   "execution_count": 32,
   "outputs": [
    {
     "name": "stdout",
     "output_type": "stream",
     "text": [
      "Question: \n",
      "מהי הגישה העיקרית שמתוארת בתחום הנדסת מערכות? \n",
      "\n",
      "Answer: \n",
      "The main approach in Systems Engineering is characterized by an interdisciplinary methodology. This involves integrating knowledge from multiple disciplines such as engineering, computer science, and management to design, develop, and manage complex systems effectively. The focus is on holistic system design, considering all aspects from technical components to human factors and organizational impacts.\n"
     ]
    }
   ],
   "source": [
    "print_nicely(questions[0], answers[questions[0]])"
   ],
   "metadata": {
    "collapsed": false,
    "ExecuteTime": {
     "end_time": "2025-02-23T11:16:23.545642100Z",
     "start_time": "2025-02-23T11:16:23.541422500Z"
    }
   }
  },
  {
   "cell_type": "code",
   "execution_count": 33,
   "outputs": [
    {
     "name": "stdout",
     "output_type": "stream",
     "text": [
      "Question: \n",
      "מהם התחומים המרכזיים אותם מכסה המחלקה להנדסה אזרחית וסביבתית? \n",
      "\n",
      "Answer: \n",
      "The Civil and Environmental Engineering Department covers several key areas: environmental engineering, building engineering with a focus on structures, data science and industrial engineering specializations, cybersecurity within electrical and computer engineering, and cross-disciplinary work in medical computing through partnerships with health sciences. These fields reflect the department's comprehensive approach to modern engineering challenges.\n"
     ]
    }
   ],
   "source": [
    "print_nicely(questions[1], answers[questions[1]])"
   ],
   "metadata": {
    "collapsed": false,
    "ExecuteTime": {
     "end_time": "2025-02-23T11:16:23.755820Z",
     "start_time": "2025-02-23T11:16:23.751733Z"
    }
   }
  },
  {
   "cell_type": "code",
   "execution_count": 34,
   "outputs": [
    {
     "name": "stdout",
     "output_type": "stream",
     "text": [
      "Question: \n",
      "מהו היקף אפשרויות התעסוקה לבוגרי הנדסה אזרחית וסביבתית? \n",
      "\n",
      "Answer: \n",
      "היקף אפשרויות התעסוקה לבוגרי הנדסה אזרחית וסביבתית כולל תפקידי Projekt מנהל, תכנון בסיסי, פיתוח, ניהול פרויקטים מורכבים, ומשרות מחקר. בוגרים יכולים להתמחות בתחומים כמו אנרגיה גיאותרמית, סולרית, הידרואלקטרית, ואנרגית רוח, או להשתלב בתפקידים בכירים בארגונים ציבוריים ופרטיים. בנוסף, ישנן אפשרויות מגוונות לשילוב במחקר וללימודים מתקדמים לתארים שני ושלישי.\n"
     ]
    }
   ],
   "source": [
    "print_nicely(questions[2], answers[questions[2]])"
   ],
   "metadata": {
    "collapsed": false,
    "ExecuteTime": {
     "end_time": "2025-02-23T11:16:24.146206400Z",
     "start_time": "2025-02-23T11:16:24.141696400Z"
    }
   }
  },
  {
   "cell_type": "markdown",
   "source": [
    "## Anaylsis:\n",
    "\n",
    "The model is returning its answers sometimes in English instead of Hebrew, even though the prompt and the context are in Hebrew.\n",
    "\n",
    "In question indexes number 0 and 1, we can see good answers from the model.\n",
    "In the Hebrew answer though (index number 2), we can see a typo in the English word \"Projekt\"."
   ],
   "metadata": {
    "collapsed": false
   }
  },
  {
   "cell_type": "markdown",
   "source": [
    "# Reasoning Questions + Hallucinations:"
   ],
   "metadata": {
    "collapsed": false
   }
  },
  {
   "cell_type": "code",
   "execution_count": 42,
   "outputs": [
    {
     "name": "stdout",
     "output_type": "stream",
     "text": [
      "Question: \n",
      "מהם כיווני הקריירה הפתוחים בפני בוגרי הנדסת ביוטכנולוגיה? \n",
      "\n",
      "Answer: \n",
      "בוגרי הנדסת ביוטכנולוגיה מצאו כיוונים הקריירה כמו פיתוח טכנולוגיות בביוטכנולוגיה, מחקר והיועץ בתעשיית האנרגיה המתחדשת (גיאותרמית, סולרית וכו'), ainsi כמו משרות בפיתוח תוכנה וחומרה. הם יכולים גם להמשיך לתארים מתקדמים או להיות מעורבים במחקר אקדמי.\n"
     ]
    }
   ],
   "source": [
    "print_nicely(questions[3], answers[questions[3]])"
   ],
   "metadata": {
    "collapsed": false,
    "ExecuteTime": {
     "end_time": "2025-02-23T11:26:07.300408200Z",
     "start_time": "2025-02-23T11:26:07.297053200Z"
    }
   }
  },
  {
   "cell_type": "code",
   "execution_count": 39,
   "outputs": [
    {
     "name": "stdout",
     "output_type": "stream",
     "text": [
      "Question: \n",
      "אילו יישומים רפואיים נכללים בתחום ההנדסה הגרעינית? \n",
      "\n",
      "Answer: \n",
      "The medical applications within nuclear engineering encompass advanced imaging techniques such as MRI and PET scans, which aid in precise diagnosis. Additionally, it includes radiation therapy for treating conditions like cancer. Nanotechnology plays a role in developing innovative treatments, such as drug delivery systems using nanoparticles. Furthermore, the field contributes to bio-engineering solutions, including prosthetics and robotic-assisted surgeries, enhancing medical capabilities through integrated engineering approaches.\n"
     ]
    }
   ],
   "source": [
    "print_nicely(questions[4], answers[questions[4]])"
   ],
   "metadata": {
    "collapsed": false,
    "ExecuteTime": {
     "end_time": "2025-02-23T11:25:54.740973700Z",
     "start_time": "2025-02-23T11:25:54.737460Z"
    }
   }
  },
  {
   "cell_type": "code",
   "execution_count": 40,
   "outputs": [
    {
     "name": "stdout",
     "output_type": "stream",
     "text": [
      "Question: \n",
      "כיצד משלימים הסטודנטים את התמחותם במסלול חומרים אלקטרוניים? \n",
      "\n",
      "Answer: \n",
      "סטודנטים משלימים את התמחותם במסלול חומרים אלקטרוניים על ידי.getSelection של קורסי ה(Core courses) המandratoirs לתחום זה. כמו כן, הם נדרשים להשתתף בפרויקטים סופיים שמעוררים את ידעיהם ומיישמים את מה שלמדו באמצעות כלי תוכנה. הקורסים והפרויקטים הללו מוכנים כדי להביא אותם לידי מכנה משותף לפני ה入り לתואר השני או השלישי במחלקה להנדסת מכונות או חומרים.\n"
     ]
    }
   ],
   "source": [
    "print_nicely(questions[5], answers[questions[5]])"
   ],
   "metadata": {
    "collapsed": false,
    "ExecuteTime": {
     "end_time": "2025-02-23T11:25:55.439658700Z",
     "start_time": "2025-02-23T11:25:55.435417400Z"
    }
   }
  },
  {
   "cell_type": "markdown",
   "source": [
    "## Anaylsis:\n",
    "\n",
    "We can see that for reasoning questions, the model is having more difficulty answering. For example, in question index 3, we can see some kind of energy industry called \"ainsi\" which doesn't exist.\n",
    "In question index 4, we actually see a pretty good answer, the only problem is it should be in Hebrew.\n",
    "In question index 5, we can see a very wierd answer, comprising both english and hebrew words, and 2 chinese characters"
   ],
   "metadata": {
    "collapsed": false
   }
  },
  {
   "cell_type": "markdown",
   "source": [
    "# No context answers:"
   ],
   "metadata": {
    "collapsed": false
   }
  },
  {
   "cell_type": "code",
   "execution_count": 45,
   "outputs": [
    {
     "name": "stdout",
     "output_type": "stream",
     "text": [
      "Question: \n",
      "האם טיוואן זוהי מדינה? \n",
      "\n",
      "Answer: \n",
      "Based on the provided context, there is no information related to whether Taiwan is a country.\n"
     ]
    }
   ],
   "source": [
    "print_nicely(questions[6], answers[questions[6]])"
   ],
   "metadata": {
    "collapsed": false,
    "ExecuteTime": {
     "end_time": "2025-02-23T11:45:18.681092200Z",
     "start_time": "2025-02-23T11:45:18.671726700Z"
    }
   }
  },
  {
   "cell_type": "code",
   "execution_count": 46,
   "outputs": [
    {
     "name": "stdout",
     "output_type": "stream",
     "text": [
      "Question: \n",
      "מי ניצח בפרסי הגראמי בשנת 2025? \n",
      "\n",
      "Answer: \n",
      "I don't have information on who won the Grammy Awards in 2025 based on the provided context.\n"
     ]
    }
   ],
   "source": [
    "print_nicely(questions[7], answers[questions[7]])"
   ],
   "metadata": {
    "collapsed": false,
    "ExecuteTime": {
     "end_time": "2025-02-23T11:45:18.681092200Z",
     "start_time": "2025-02-23T11:45:18.674807Z"
    }
   }
  },
  {
   "cell_type": "markdown",
   "source": [
    "## Analysis:\n",
    "\n",
    "In both cases, where there isn't any relevant context in the pdfs, the model actually does a good job in saying that it doesn't know."
   ],
   "metadata": {
    "collapsed": false
   }
  },
  {
   "cell_type": "markdown",
   "source": [
    "# Trying specific hallucination questions:"
   ],
   "metadata": {
    "collapsed": false
   }
  },
  {
   "cell_type": "code",
   "execution_count": 37,
   "outputs": [],
   "source": [
    "hallucination_questions = [\n",
    "    \"Is Taiwan a country?\"\n",
    "    \"איזה צבע היה הכובע של דוד בן גוריון כשהכריז על הקמת המדינה?\",\n",
    "    \"מה אמר אלברט איינשטיין בהרצאה הסודית שלו ב-1953 על טלפורטציה קוונטית?\",\n",
    "    \"איזו שיטת בישול מיוחדת השתמשה בה מלכת אנגליה אליזבת הראשונה להכנת עוף?\",\n",
    "    \"מהי ההשפעה הפסיכולוגית של צפייה באור כחול בשעות 3:47 בבוקר לפי מחקר שפורסם בכתב העת המדעי 'NeuroVision' בשנת 2016?\",\n",
    "    \"איך קראו למטוס הסודי של חיל האוויר הישראלי שהיה מסוגל לטוס במהירות פי 5 ממהירות הקול בשנות ה-80?\"\n",
    "]\n"
   ],
   "metadata": {
    "collapsed": false,
    "ExecuteTime": {
     "end_time": "2025-02-23T11:23:14.596561Z",
     "start_time": "2025-02-23T11:23:14.568780200Z"
    }
   }
  },
  {
   "cell_type": "code",
   "execution_count": 44,
   "outputs": [
    {
     "name": "stderr",
     "output_type": "stream",
     "text": [
      "Some weights of BertModel were not initialized from the model checkpoint at dicta-il/dictabert and are newly initialized: ['bert.pooler.dense.bias', 'bert.pooler.dense.weight']\n",
      "You should probably TRAIN this model on a down-stream task to be able to use it for predictions and inference.\n",
      "Some weights of BertModel were not initialized from the model checkpoint at dicta-il/dictabert and are newly initialized: ['bert.pooler.dense.bias', 'bert.pooler.dense.weight']\n",
      "You should probably TRAIN this model on a down-stream task to be able to use it for predictions and inference.\n",
      "Some weights of BertModel were not initialized from the model checkpoint at dicta-il/dictabert and are newly initialized: ['bert.pooler.dense.bias', 'bert.pooler.dense.weight']\n",
      "You should probably TRAIN this model on a down-stream task to be able to use it for predictions and inference.\n",
      "Some weights of BertModel were not initialized from the model checkpoint at dicta-il/dictabert and are newly initialized: ['bert.pooler.dense.bias', 'bert.pooler.dense.weight']\n",
      "You should probably TRAIN this model on a down-stream task to be able to use it for predictions and inference.\n",
      "Some weights of BertModel were not initialized from the model checkpoint at dicta-il/dictabert and are newly initialized: ['bert.pooler.dense.bias', 'bert.pooler.dense.weight']\n",
      "You should probably TRAIN this model on a down-stream task to be able to use it for predictions and inference.\n"
     ]
    }
   ],
   "source": [
    "%%capture\n",
    "\n",
    "docs_retrieved_h = {}\n",
    "answers_h = {}\n",
    "\n",
    "for question in hallucination_questions:\n",
    "    answer, doc_retrieved = answer_question(question)\n",
    "    answers_h[question] = answer\n",
    "    docs_retrieved_h[question] = doc_retrieved"
   ],
   "metadata": {
    "collapsed": false,
    "ExecuteTime": {
     "end_time": "2025-02-23T11:45:18.670729700Z",
     "start_time": "2025-02-23T11:36:14.452636600Z"
    }
   }
  },
  {
   "cell_type": "code",
   "execution_count": 50,
   "outputs": [
    {
     "name": "stdout",
     "output_type": "stream",
     "text": [
      "Question: \n",
      "איזה צבע היה הכובע של דוד בן גוריון כשהכריז על הקמת המדינה? \n",
      "\n",
      "Answer: \n",
      "The context does not provide any information related to David Ben-Gurion or the color of his hat during the declaration.\n",
      "\n",
      "\n",
      "Question: \n",
      "מה אמר אלברט איינשטיין בהרצאה הסודית שלו ב-1953 על טלפורטציה קוונטית? \n",
      "\n",
      "Answer: \n",
      "אין מידע בקשרים על מה אמר אלברט איינשטיין בהרצאה הסודית שלו ב-1953 על טלפורטציה קוונטית.\n",
      "\n",
      "\n",
      "Question: \n",
      "איזו שיטת בישול מיוחדת השתמשה בה מלכת אנגליה אליזבת הראשונה להכנת עוף? \n",
      "\n",
      "Answer: \n",
      "The context provided does not contain any information about cooking methods used by Queen Elizabeth I of England. Therefore, it is impossible to determine which special method she used based on the given material.\n",
      "\n",
      "I don't have the necessary information to answer this question accurately from the provided context.\n",
      "\n",
      "\n",
      "Question: \n",
      "מהי ההשפעה הפסיכולוגית של צפייה באור כחול בשעות 3:47 בבוקר לפי מחקר שפורסם בכתב העת המדעי 'NeuroVision' בשנת 2016? \n",
      "\n",
      "Answer: \n",
      "אני לא יודע.\n",
      "\n",
      "\n",
      "Question: \n",
      "איך קראו למטוס הסודי של חיל האוויר הישראלי שהיה מסוגל לטוס במהירות פי 5 ממהירות הקול בשנות ה-80? \n",
      "\n",
      "Answer: \n",
      "אני לא יודע את שמם של המטוס הסודי של חיל האוויר הישראלי בשנות ה-80.\n",
      "\n",
      "\n"
     ]
    }
   ],
   "source": [
    "for question in hallucination_questions:\n",
    "    print_nicely(question, answers_h[question])\n",
    "    print('\\n')"
   ],
   "metadata": {
    "collapsed": false,
    "ExecuteTime": {
     "end_time": "2025-02-23T12:00:19.342040400Z",
     "start_time": "2025-02-23T12:00:19.338525900Z"
    }
   }
  },
  {
   "cell_type": "markdown",
   "source": [
    "The model knows how to handle questions that he doesnt receive context about quite well"
   ],
   "metadata": {
    "collapsed": false
   }
  },
  {
   "cell_type": "markdown",
   "source": [],
   "metadata": {
    "collapsed": false
   }
  }
 ],
 "metadata": {
  "kernelspec": {
   "display_name": "Python 3",
   "language": "python",
   "name": "python3"
  },
  "language_info": {
   "codemirror_mode": {
    "name": "ipython",
    "version": 2
   },
   "file_extension": ".py",
   "mimetype": "text/x-python",
   "name": "python",
   "nbconvert_exporter": "python",
   "pygments_lexer": "ipython2",
   "version": "2.7.6"
  }
 },
 "nbformat": 4,
 "nbformat_minor": 0
}
