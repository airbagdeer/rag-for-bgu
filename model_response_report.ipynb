{
 "cells": [
  {
   "cell_type": "code",
   "execution_count": 1,
   "metadata": {
    "collapsed": true,
    "ExecuteTime": {
     "end_time": "2025-02-24T08:17:40.579048900Z",
     "start_time": "2025-02-24T08:17:10.005001100Z"
    }
   },
   "outputs": [
    {
     "name": "stderr",
     "output_type": "stream",
     "text": [
      "No sentence-transformers model found with name dicta-il/dictabert. Creating a new one with mean pooling.\n",
      "Some weights of BertModel were not initialized from the model checkpoint at dicta-il/dictabert and are newly initialized: ['bert.pooler.dense.bias', 'bert.pooler.dense.weight']\n",
      "You should probably TRAIN this model on a down-stream task to be able to use it for predictions and inference.\n"
     ]
    }
   ],
   "source": [
    "from langchain_core.prompts import ChatPromptTemplate\n",
    "\n",
    "from chroma import vector_store_manager\n",
    "from config import template, model\n",
    "from process_pdfs import load_tokenized_documents\n",
    "from retrieval_methods import hybrid_retrieval\n",
    "import re"
   ]
  },
  {
   "cell_type": "markdown",
   "source": [
    "# Analysis Metrics:\n",
    "\n",
    "In the following analysis, we will be focusing on 5 main qualitative metrics:\n",
    "\n",
    "1. **Relevance of the Answer** - How relevant the answer based on the relevant document.\n",
    "2. **Completeness of Information** - Wether the model used all the provided details from the provided context.\n",
    "3. **Clarity and Fluency** - How readable and coherent the response is.\n",
    "4. **Accuracy compared to the document** - Basically checking if the model hallucinated any information\n",
    "5. **Overall Assessment** - A general evaluation of how well the response performs across the previous three metrics."
   ],
   "metadata": {
    "collapsed": false
   }
  },
  {
   "cell_type": "code",
   "execution_count": 2,
   "outputs": [
    {
     "name": "stdout",
     "output_type": "stream",
     "text": [
      "Loaded precomputed tokenized data from tokenized_pdfs_clean.pkl\n"
     ]
    }
   ],
   "source": [
    "tokenized_documents_clean = load_tokenized_documents()"
   ],
   "metadata": {
    "collapsed": false,
    "ExecuteTime": {
     "end_time": "2025-02-24T08:17:40.591172600Z",
     "start_time": "2025-02-24T08:17:40.580047500Z"
    }
   }
  },
  {
   "cell_type": "code",
   "execution_count": 103,
   "outputs": [],
   "source": [
    "def get_answer(question, tokenized_documents = tokenized_documents_clean):\n",
    "    vector_store_manager.update_embedding_model('dicta-il/dictabert')\n",
    "\n",
    "    retrieved_docs = hybrid_retrieval(question, tokenized_documents)\n",
    "    docs_content = \"\\n\\n\".join(doc[0].page_content for doc in retrieved_docs)\n",
    "\n",
    "    prompt_template = ChatPromptTemplate.from_template(template)\n",
    "    prompt = prompt_template.invoke({\"question\": question, \"context\": docs_content})\n",
    "\n",
    "    answer = model.invoke(prompt.messages[0].content)\n",
    "\n",
    "    return answer, retrieved_docs"
   ],
   "metadata": {
    "collapsed": false,
    "ExecuteTime": {
     "end_time": "2025-02-24T12:56:53.347191100Z",
     "start_time": "2025-02-24T12:56:53.344674800Z"
    }
   }
  },
  {
   "cell_type": "code",
   "execution_count": 5,
   "outputs": [],
   "source": [
    "def remove_think_tags(text: str) -> str:\n",
    "    return re.sub(r'<think>.*?</think>', '', text, flags=re.DOTALL).strip()"
   ],
   "metadata": {
    "collapsed": false,
    "ExecuteTime": {
     "end_time": "2025-02-24T08:17:40.601300200Z",
     "start_time": "2025-02-24T08:17:40.598018400Z"
    }
   }
  },
  {
   "cell_type": "code",
   "execution_count": 76,
   "outputs": [],
   "source": [
    "def print_nicely(question, answer, relevant_documents):\n",
    "    print(f\"Question: \\n{question} \\n\\nAnswer: \\n{remove_think_tags(answer)}\")\n",
    "    print('\\nOut of the top 10 retrieved documents, This is the ones that came from the relevant pdf:')\n",
    "    if relevant_documents!=[]:\n",
    "        for i, document in enumerate(relevant_documents):\n",
    "            print(f\"\\nRelevant Document number {i+1}: \\n{document}\")\n",
    "    else:\n",
    "        print(\"\\nNo relevant documents found\")"
   ],
   "metadata": {
    "collapsed": false,
    "ExecuteTime": {
     "end_time": "2025-02-24T10:30:23.822089600Z",
     "start_time": "2025-02-24T10:30:23.816838200Z"
    }
   }
  },
  {
   "cell_type": "code",
   "execution_count": 104,
   "outputs": [],
   "source": [
    "def answer_and_print(question, source = None):\n",
    "    answer, docs_retrieved = get_answer(question)\n",
    "\n",
    "    if source is not None:\n",
    "        documents = [_doc_retrieved[0].page_content for _doc_retrieved in docs_retrieved if _doc_retrieved[0].metadata['source'] == source]\n",
    "    else:\n",
    "        documents = []\n",
    "\n",
    "    print_nicely(question, answer, documents)"
   ],
   "metadata": {
    "collapsed": false,
    "ExecuteTime": {
     "end_time": "2025-02-24T12:56:55.385081600Z",
     "start_time": "2025-02-24T12:56:55.381637900Z"
    }
   }
  },
  {
   "cell_type": "markdown",
   "source": [
    "# Question 1:"
   ],
   "metadata": {
    "collapsed": false
   }
  },
  {
   "cell_type": "code",
   "execution_count": 95,
   "outputs": [
    {
     "name": "stderr",
     "output_type": "stream",
     "text": [
      "No sentence-transformers model found with name dicta-il/dictabert. Creating a new one with mean pooling.\n",
      "Some weights of BertModel were not initialized from the model checkpoint at dicta-il/dictabert and are newly initialized: ['bert.pooler.dense.bias', 'bert.pooler.dense.weight']\n",
      "You should probably TRAIN this model on a down-stream task to be able to use it for predictions and inference.\n"
     ]
    },
    {
     "name": "stdout",
     "output_type": "stream",
     "text": [
      "Question: \n",
      "כיצד בנוי הפרויקט המסכם בשנה הרביעית להנדסת מערכות מידע? \n",
      "\n",
      "Answer: \n",
      "הפרויקט המסכם בשנה הרביעית להנדסת מערכות מידע בנוי כעבודה מקיפה ואינטגרטיבית, שבה הסטודנטים נדרשים לבנות את הידע והיכולת שלהם ממגוון קורסים. הוא כולל מרכיבי אפליקציה מוליכים ולימדנויות בתחום, כמו פיתוח מערכות וניתוח נתונים.\n",
      "\n",
      "Out of the top 10 retrieved documents, This is the ones that came from the relevant pdf:\n",
      "\n",
      "Relevant Document number 1: \n",
      "�טטיסטיקה ועוד. החל מהשנה\n",
      "השנייה התכנית כוללת מגוון רחב של קורסים בתחום של הנדסת מערכות מידע ותוכנה. השנה הרביעית כוללת\n",
      "מגוון של קורסי בחירה במערכות מידע וכן פרויקט מסכם שנתי שבו נדרש התלמיד לבצע עבודה מקיפה\n",
      "ואינטגרטיבית. המחלקה מעודדת את הסטוד�\n",
      "\n",
      "Relevant Document number 2: \n",
      "כותית )למשל בתחום הרובוטיקה(. הסטודנטים יהיו רשאים לקחת קורסים אלו\n",
      "בכפוף לאישור ועדת ההוראה של המחלקה.\n",
      "32\n",
      " ד. עבודת התזה בתחום הבינה המלאכותית\n",
      "כל תלמיד לתואר השני בהנדסת מערכות מידע, ובכלל זה בלימודי המגמה לבינה מלאכותית ומערכות\n",
      "תוכנה אוטונומיות, חייב לבצע ת\n",
      "\n",
      "Relevant Document number 3: \n",
      "\" ניתן למצוא בקישור זה.\n",
      "23\n",
      " 4. תכנית לימודים לתואר שני בהנדסת מערכות מידע\n",
      "(M.Sc).\n",
      "תכנית הלימודים לתואר מגיסטר (M.Sc) בהנדסת מערכות מידע מיועדת להכשיר חוקרים ואנשי מקצוע\n",
      "איכותיים לעסוק במחקר, תכנון, פיתוח וניהול של מערכות מידע וטכנולוגיות מידע ונתונים מת�\n",
      "\n",
      "Relevant Document number 4: \n",
      "ישור וועדת הוראה\n",
      "פקולטית.\n",
      "ג. עבודת תזה –12 נק\"ז )מספר קורס 37226001( בהנדסת מערכות מידע:\n",
      "כל תלמיד לתואר השני בהנדסת מערכות מידע ובמדעי המחשב, ובכלל זה בלימודי המגמה של למידה\n",
      "חישובית וניתוח נתוני עתק, חייב לבצע תזה מחקרית בהנחיית חבר סגל המחלקה. הצעת המחקר\n",
      "\n",
      "\n",
      "Relevant Document number 5: \n",
      "ינים לפי הפירוט\n",
      "הבא:\n",
      "1. תכנית מצטייני הנדסת מערכות מידע )ממד״ע( היא תכנית רב-שנתית, שתכליתה לטפח מצוינות\n",
      "במסגרת לימודי התואר הראשון בהנדסת מערכות מידע. הקבלה לתוכנית היא דרך המחלקה לאחר\n",
      "הקבלה לאוניברסיטה.\n",
      "2. תנאי קבלה לתוכנית – יכולים להתקבל לתוכנית מ\n",
      "\n",
      "Relevant Document number 6: \n",
      " השתתפותם בתכנית.\n",
      "22\n",
      " 3.5 התכנית להנדסת תוכנה\n",
      "מטרת התוכנית להנדסת תוכנה הינה להכשיר אנשי תוכנה בעלי השכלה רחבה בתחומים החשובים בתעשיית\n",
      "התוכנה, החל משיטות לאפיון, מידול, ובנייה של מערכות תוכנה גדולות, וכלה בתחומי ידע כגון אבטחת מידע,\n",
      "תקשורת מחשבים, בס\n",
      "\n",
      "Relevant Document number 7: \n",
      "�זיות של פיתוח מערכות וניתוח נתונים. לאור זאת פיתחה המחלקה שתי תוכניות לימוד\n",
      "שמטרתן להקנות מיומנויות אלו.\n",
      "תכנית הלימודים להנדסת מערכות מידע מספקת לתלמידים עקרונות וטכניקות המהוות בסיס ידע עיקרי\n",
      "לאנשי מקצוע במגוון תפקידים במערכות מידע ממוחשבות בסביבה\n"
     ]
    }
   ],
   "source": [
    "question = \"כיצד בנוי הפרויקט המסכם בשנה הרביעית להנדסת מערכות מידע?\"\n",
    "source = '372-2025.pdf'\n",
    "\n",
    "answer_and_print(question, source)"
   ],
   "metadata": {
    "collapsed": false,
    "ExecuteTime": {
     "end_time": "2025-02-24T11:36:09.081499Z",
     "start_time": "2025-02-24T11:33:01.545475700Z"
    }
   }
  },
  {
   "cell_type": "markdown",
   "source": [
    "### Question 1 Analysis\n",
    "\n",
    "1. **Relevance of the Answer** - The answer is describing the final project like it was asked.\n",
    "2. **Completeness of Information** - The model understood the context properly and showed all relevant knowledge.\n",
    "3. **Clarity and Fluency** - Except for one type \"ולימדנויות\", the answer is very clear.\n",
    "4. **Accuracy compared to the document** - The answer is grounded to the context quite well and gave accurate response.\n",
    "5. **Overall Assessment** - Overall the model did a good job for this question, answering with relevant and accurate information."
   ],
   "metadata": {
    "collapsed": false
   }
  },
  {
   "cell_type": "markdown",
   "source": [
    "# Question 2"
   ],
   "metadata": {
    "collapsed": false
   }
  },
  {
   "cell_type": "code",
   "execution_count": 77,
   "outputs": [
    {
     "name": "stdout",
     "output_type": "stream",
     "text": [
      "Question: \n",
      "מהי הגישה העיקרית שמתוארת בתחום הנדסת מערכות? \n",
      "\n",
      "Answer: \n",
      "הגישה העיקרית שמתוארת בתחום הנדסת מערכות היא גישה מולטי-דיסיפלינארית, המורכבת משילוב תחומים שונים כמו דינמיקה, אnergיה, טכנולוגיות מידע וסטטיסטיקה. הגישה הזו מאפשרת לבנות מערכות מורכבות יותר ולפתוח פתרונות מתקדמים לתפקוד והפעלה של מערכות אלו.\n",
      "\n",
      "Out of the top 10 retrieved documents, This is the ones that came from the relevant pdf:\n",
      "\n",
      "Relevant Document number 1: \n",
      "נות כלים בתחום היזמות והמצוינות בניהול פרויקטים. מקצועות הנדסיים רבים עברו שינויים רציפים – מעבר\n",
      "מהנדסה קלאסית במכונות ,חשמל ואלקטרוניקה לדיספלינות מערכתיות כגון רובוטיקה ,מערכות אנרגיה ,\n",
      "טכנולוגיות רפואיות ,מערכות מידע ותקשורת ועוד. הצורך לנתח ולתכנן �\n"
     ]
    }
   ],
   "source": [
    "question = \"מהי הגישה העיקרית שמתוארת בתחום הנדסת מערכות?\"\n",
    "source = '383-2025.pdf'\n",
    "\n",
    "answer_and_print(question, source)"
   ],
   "metadata": {
    "collapsed": false,
    "ExecuteTime": {
     "end_time": "2025-02-24T10:30:28.634892100Z",
     "start_time": "2025-02-24T10:30:28.630877400Z"
    }
   }
  },
  {
   "cell_type": "markdown",
   "source": [
    "### Question 2 Analysis\n",
    "\n",
    "1. **Relevance of the Answer** - The answer is very relevant to the context, addressing the question properly.\n",
    "2. **Completeness of Information** - The answer addressed only some of the disciplines that were provided. The answer also doesn't address how the disciplines changed.\n",
    "3. **Clarity and Fluency** - The answer is mostly readable, except in a single type,  \"אnergיה\" instead of \"אנרגיה\".\n",
    "4. **Accuracy compared to the document** - The model for some reason mentions disciplines like statistics and dynamics, that were not mentioned in the relevant document.\n",
    "5. **Overall Assessment** - Overall the answer had some hallucinations and typos."
   ],
   "metadata": {
    "collapsed": false
   }
  },
  {
   "cell_type": "markdown",
   "source": [
    "# Question 3"
   ],
   "metadata": {
    "collapsed": false
   }
  },
  {
   "cell_type": "code",
   "execution_count": 93,
   "outputs": [
    {
     "name": "stderr",
     "output_type": "stream",
     "text": [
      "No sentence-transformers model found with name dicta-il/dictabert. Creating a new one with mean pooling.\n",
      "Some weights of BertModel were not initialized from the model checkpoint at dicta-il/dictabert and are newly initialized: ['bert.pooler.dense.bias', 'bert.pooler.dense.weight']\n",
      "You should probably TRAIN this model on a down-stream task to be able to use it for predictions and inference.\n"
     ]
    },
    {
     "name": "stdout",
     "output_type": "stream",
     "text": [
      "Question: \n",
      "אילו תחומי התמחות מוצעים במסלול לניהול ויזמות בהנדסה כימית? \n",
      "\n",
      "Answer: \n",
      "The Management and Entrepreneurship program offers several specializations:\n",
      "\n",
      "1. **Management and Entrepreneurship**: Prepares students for leadership roles in both traditional industries and startups, focusing on marketing, entrepreneurship, and organizational aspects.\n",
      "\n",
      "2. **Energy, Water, and Advanced Technologies**: Focuses on environmental engineering and green technologies, preparing students for work in energy and water sectors.\n",
      "\n",
      "3. **Biochemicals**: Involves development of biochemical processes for the pharmaceutical and food industries.\n",
      "\n",
      "4. **Research Focus**: Provides early exposure to academic research skills and topics.\n",
      "\n",
      "Additionally, there's a dual degree program combining Chemical Engineering with Chemistry: Nanotechnology.\n",
      "\n",
      "Out of the top 10 retrieved documents, This is the ones that came from the relevant pdf:\n",
      "\n",
      "Relevant Document number 1: \n",
      "לקתית.\n",
      "מסלולי ההתמחות :\n",
      "מסלול לניהול ויזמות\n",
      "מהנדסי כימיה צפויים במהלך הקרירה שלהם למלא תפקידי ניהול, הן בתעשיות קלאסיות והן\n",
      "בסטארטאפים. המסלול יחשוף את הסטודנט לפן השיווקי, פן היזמות והפן הארגוני הרלוונטים למהנדסי\n",
      "כימיה.\n",
      "מסלול לאנרגיה מים וטכנולוגיות\n",
      "\n",
      "Relevant Document number 2: \n",
      "�ומרים\n",
      "בוגרים רבים של המחלקה משתלבים בתעשיות הפארמה המזון ובמגוון נוסף של תעשיות, שבהן הם\n",
      "ממלאים תפקידי פיתוח תהליכים של ביו-חומרים, המצריכים הבנה ביו-פיסיקאלית מעמיקה. המסלול\n",
      "יספק את הרקע המתאים לבוגרים אלו.\n",
      "מסלול בדגש למחקר\n",
      "מסלול זה יחשוף את הסטודנטים כבר ב\n",
      "\n",
      "Relevant Document number 3: \n",
      " למחקר\n",
      "מסלול זה יחשוף את הסטודנטים כבר במהלך התואר הראשון לאספקטים שונים של עבודת מחקר\n",
      "אקדמית: מיומנויות, נושאים ואתגרים.\n",
      "בנוסף, קיימת תכנית מצוינות לתואר כפול – הנדסה כימית וכימיה: ננוטכנולוגיה. התכנית מעניקה תואר\n",
      "בוגר )B.Sc( בכימיה ותואר בוגר )B.Sc( בהנד\n",
      "\n",
      "Relevant Document number 4: \n",
      "דסי\n",
      "כימיה.\n",
      "מסלול לאנרגיה מים וטכנולוגיות מתקדמות\n",
      "המודעות לאספקטים סביבתיים של הנדסה כימית הולכת ועולה וכך גם העניין בטכנולוגיות ירוקות.\n",
      "המסלול יחשוף את הסטודנטים לנעשה בתחום של אנרגיה ומים.\n",
      "מסלול לביו-חומרים\n",
      "בוגרים רבים של המחלקה משתלבים בתעשיות ה\n",
      "\n",
      "Relevant Document number 5: \n",
      "מוצרים מוגמרים והן כחומרי בסיס לתעשיות אחרות.\n",
      "הלימודים במחלקה לקראת תואר בוגר )B.Sc( בהנדסה-כימית נמשכים ארבע שנים, במהלכן יש לצבור\n",
      "162 נקודות זכות לתואר. תכנית הלימודים משלבת בין מקצועות בסיסיים של מדעי הטבע ומקצועות\n",
      "מתקדמים בהנדסה כימית. תחומי המתמטיקה, כי�\n",
      "\n",
      "Relevant Document number 6: \n",
      "המחלקה להנדסה כימית\n",
      "רקע כללי 2\n",
      "חברי הסגל האקדמי 4\n",
      "תכנית לימודים לתואר ראשון לפי סמסטרים 5\n",
      "מסלול לתואר כפול - כימיה והנדסה כימית: ננוטכנולוגיה 15\n",
      "לימודים לתואר שני 22\n",
      "1\n",
      " רקע כללי\n",
      "תכנית הלימודים במחלקה להנדסה כימית מקנה לבוגריה הכשרה בסיסית רחבה בתחום הנדסת\n",
      "\n"
     ]
    }
   ],
   "source": [
    "question = \"אילו תחומי התמחות מוצעים במסלול לניהול ויזמות בהנדסה כימית?\"\n",
    "source = '363-2025.pdf'\n",
    "\n",
    "answer_and_print(question,source)"
   ],
   "metadata": {
    "collapsed": false,
    "ExecuteTime": {
     "end_time": "2025-02-24T11:29:44.825799900Z",
     "start_time": "2025-02-24T11:26:57.606081700Z"
    }
   }
  },
  {
   "cell_type": "markdown",
   "source": [
    "### Question 3 Analysis\n",
    "\n",
    "1. **Relevance of the Answer** - The answer gives exactly what was asked for, discussing the different programs in the management and entrepreneurship program.\n",
    "2. **Completeness of Information** - The model used almost all the information, it did discuss the different programs, but it forgot the nanotechnology program.\n",
    "3. **Clarity and Fluency** - The answer is clear, but it was provided not in the same language as the question.\n",
    "4. **Accuracy compared to the document** - The model did not give wrong information, sticking to the context.\n",
    "5. **Overall Assessment** - Overall this is a good answer, the model did a good job."
   ],
   "metadata": {
    "collapsed": false
   }
  },
  {
   "cell_type": "markdown",
   "source": [
    "# Question 4"
   ],
   "metadata": {
    "collapsed": false
   }
  },
  {
   "cell_type": "code",
   "execution_count": 79,
   "outputs": [
    {
     "name": "stdout",
     "output_type": "stream",
     "text": [
      "Question: \n",
      "מהם כיווני הקריירה הפתוחים בפני בוגרי הנדסת ביוטכנולוגיה? \n",
      "\n",
      "Answer: \n",
      "For Biotechnology Engineering graduates, career opportunities include roles in renewable energy sectors such as geothermal, solar, hydroelectric, and wind, where they can work in consulting and planning. Additionally, they can pursue advanced studies in master's or doctoral programs, leading to research and development roles or management positions in both private and public sectors. Graduates may also explore high-tech industries or academic careers, leveraging opportunities for interdisciplinary knowledge and specialized expertise.\n",
      "\n",
      "Out of the top 10 retrieved documents, This is the ones that came from the relevant pdf:\n",
      "\n",
      "No relevant documents found\n"
     ]
    }
   ],
   "source": [
    "question = \"מהם כיווני הקריירה הפתוחים בפני בוגרי הנדסת ביוטכנולוגיה? \"\n",
    "source = \"369-2025.pdf\"\n",
    "\n",
    "answer_and_print(question, source)"
   ],
   "metadata": {
    "collapsed": false,
    "ExecuteTime": {
     "end_time": "2025-02-24T10:30:40.507194700Z",
     "start_time": "2025-02-24T10:30:40.502798700Z"
    }
   }
  },
  {
   "cell_type": "markdown",
   "source": [
    "### Question 4 Analysis\n",
    "\n",
    "1. **Relevance of the Answer** - There are no relevant documents, so this metric is irrelevant\n",
    "2. **Completeness of Information** - There are no relevant documents, so this metric is irrelevant\n",
    "3. **Clarity and Fluency** - The answer not in the same language as the question.\n",
    "4. **Accuracy compared to the document** - Extreme incorrectness, there were no relevant documents found, but the model was able to produce an answer anyway. This was because of this context :\n",
    "\n",
    "עוד .לאור דרישה גוברת למהנדסים ומנהלים בתחומי אנרגיה גיאותרמית,\n",
    "סולרית ,הידרואלקטרית, ואנרגית רוח, יוכלו בוגרי התוכנית להשתלב בחברות יעוץ ותכנון בתחומים חדשניים אלו.\n",
    "תנאי הרשמה\n",
    "הלימודים בתוכנית להנדסת אנרגיה פתוחים בפני מסיימי תואר ראשון בהנדסה (B.Sc) ממוסד\n",
    "\n",
    "that was provided, but the model didn't understand it's not relevant.\n",
    "\n",
    "5. **Overall Assessment** - Overall, the model was completely wrong."
   ],
   "metadata": {
    "collapsed": false
   }
  },
  {
   "cell_type": "markdown",
   "source": [
    "# Question 5 Analysis"
   ],
   "metadata": {
    "collapsed": false
   }
  },
  {
   "cell_type": "code",
   "execution_count": 105,
   "outputs": [
    {
     "name": "stderr",
     "output_type": "stream",
     "text": [
      "No sentence-transformers model found with name dicta-il/dictabert. Creating a new one with mean pooling.\n",
      "Some weights of BertModel were not initialized from the model checkpoint at dicta-il/dictabert and are newly initialized: ['bert.pooler.dense.bias', 'bert.pooler.dense.weight']\n",
      "You should probably TRAIN this model on a down-stream task to be able to use it for predictions and inference.\n"
     ]
    },
    {
     "name": "stdout",
     "output_type": "stream",
     "text": [
      "Question: \n",
      "האם טיוואן זוהי מדינה? \n",
      "\n",
      "Answer: \n",
      "אין די מידע כדי לענות על השאלה. אני לא יודע.\n",
      "\n",
      "Out of the top 10 retrieved documents, This is the ones that came from the relevant pdf:\n",
      "\n",
      "No relevant documents found\n"
     ]
    }
   ],
   "source": [
    "question = \"האם טיוואן זוהי מדינה?\"\n",
    "\n",
    "answer_and_print(question)"
   ],
   "metadata": {
    "collapsed": false,
    "ExecuteTime": {
     "end_time": "2025-02-24T12:58:29.389735Z",
     "start_time": "2025-02-24T12:56:58.829587800Z"
    }
   }
  },
  {
   "cell_type": "markdown",
   "source": [
    "### Question 5 analysis\n",
    "\n",
    "1. **Relevance of the Answer** - The model didnt answer, so irrelevant.\n",
    "2. **Completeness of Information** - No relevant documents, so irrelevant.\n",
    "3. **Clarity and Fluency** - The model answered in Hebrew like the provided question. The answer is readable.\n",
    "4. **Accuracy compared to the document** - No relevant documents, so irrelevant.\n",
    "5. **Overall Assessment** - The question has no relevant information in the pdfs, so saying \"אני לא יודע\" is the answer we wanted the model to say. Although, it shouldn't have said \"אין די מידע כדי לענות על השאלה\"."
   ],
   "metadata": {
    "collapsed": false
   }
  },
  {
   "cell_type": "markdown",
   "source": [
    "# Question 6"
   ],
   "metadata": {
    "collapsed": false
   }
  },
  {
   "cell_type": "code",
   "execution_count": 82,
   "outputs": [
    {
     "name": "stdout",
     "output_type": "stream",
     "text": [
      "Question: \n",
      "אילו יישומים רפואיים נכללים בתחום ההנדסה הגרעינית? \n",
      "\n",
      "Answer: \n",
      "The field of nuclear engineering encompasses several medical applications, including diagnostic tools like MRI machines, advanced drug delivery systems utilizing nanoparticles, high-resolution biological imaging techniques, bio-electronic devices, and developments in nuclear medicine such as radiation therapy for treating conditions like cancer. These innovations highlight the significant role nuclear engineering plays in advancing healthcare solutions.\n",
      "\n",
      "Out of the top 10 retrieved documents, This is the ones that came from the relevant pdf:\n",
      "\n",
      "Relevant Document number 1: \n",
      "�בוגרינו השכלה\n",
      "רחבה ככל שניתן בתחום הכללי של הנדסה גרעינית ומדעי הגרעין )כולל פיזיקה יישומית ואלגוריתמיקה(, ולהכין\n",
      "אותם למשרות בתחומים נרחבים בתעשייה, במחקר וברפואה.\n",
      "2\n",
      " חברי סגל היחידה\n",
      "פרופסור חבר\n",
      "פרופ' ארז גלעד - ראש היחידה\n",
      "פרופ' יצחק אוריון\n",
      "מרצה בכירד\"ר ל\n",
      "\n",
      "Relevant Document number 2: \n",
      "ית היחידה במדינת ישראל המכשירה חוקרים ומהנדסים בתחומים\n",
      "החיוניים של אנרגיה גרעינית, יישומי קרינה ברפואה ורפואה גרעינית, גילוי קרינה ומיגון וחישובי קרינה. היחידה\n",
      "להנדסה גרעינית מעניקה תארים מתקדמים, מוסמך ודוקטורט ).M.Sc ו - .Ph.D (, בתחומים אלו. תכנית הלימודים\n",
      "של היחידה מ�\n"
     ]
    }
   ],
   "source": [
    "question = \"אילו יישומים רפואיים נכללים בתחום ההנדסה הגרעינית?\"\n",
    "source = \"366-2025.pdf\"\n",
    "\n",
    "answer_and_print(question, source)"
   ],
   "metadata": {
    "collapsed": false,
    "ExecuteTime": {
     "end_time": "2025-02-24T10:32:33.005489400Z",
     "start_time": "2025-02-24T10:32:33.001474300Z"
    }
   }
  },
  {
   "cell_type": "markdown",
   "source": [
    "### Question 6 Analysis\n",
    "\n",
    "1. **Relevance of the Answer** - The answer is not very relevant to the relevant documents, explaining more information that is given\n",
    "2. **Completeness of Information** - The relevant information given is mentioned in the answer but not completely, the answer notes radiation therapy but doesn't provide more information on it.\n",
    "3. **Clarity and Fluency** - The answer, is, once again, not in the same language as the answer. It is fluent though.\n",
    "4. **Accuracy compared to the document** - A lot of incorrectness. The retrieved information doesnt contain much information for the answer, but the model found information elsewhere that it thought is relevant. I suspect it came from the context printed in the next coding block:\n",
    "5. **Overall Assessment** - Overall, the model was not completely wrong, because it did mention radiation therapy, but it gave the wrong overall idea about the right answer."
   ],
   "metadata": {
    "collapsed": false
   }
  },
  {
   "cell_type": "markdown",
   "source": [
    "# Question 7"
   ],
   "metadata": {
    "collapsed": false
   }
  },
  {
   "cell_type": "code",
   "execution_count": 78,
   "outputs": [
    {
     "name": "stdout",
     "output_type": "stream",
     "text": [
      "Question: \n",
      "מהם התחומים המרכזיים אותם מכסה המחלקה להנדסה אזרחית וסביבתית? \n",
      "\n",
      "Answer: \n",
      "The Department of Civil and Environmental Engineering covers several key areas:\n",
      "\n",
      "1. **Environmental Engineering**: Focused on addressing national infrastructure needs and future challenges through a unique double-degree program in building structures and earth sciences.\n",
      "\n",
      "2. **Structural Engineering**: Specializes in the design and analysis of structures within the built environment.\n",
      "\n",
      "3. **Industrial Engineering**: Includes tracks such as performance research, algorithms, systems, learning systems, and data mining.\n",
      "\n",
      "4. **Bioengineering/Computational Medicine**: A joint program with health sciences applying computational methods to medical fields.\n",
      "\n",
      "5. **Secure Systems**: Offers advanced studies in electrical and computer engineering for cybersecurity expertise.\n",
      "\n",
      "These areas reflect a comprehensive approach to both traditional civil engineering and emerging interdisciplinary fields.\n",
      "\n",
      "Out of the top 10 retrieved documents, This is the ones that came from the relevant pdf:\n",
      "\n",
      "Relevant Document number 1: \n",
      "כנית לימודים לתואר שני בהנדסה סביבתית\n",
      "המחלקה להנדסה אזרחית וסביבתית מציעה תוכנית לתואר שני בהנדסה סביבתית המיועדת לבוגרי.ות תואר\n",
      "ראשון בהנדסה במגוון תחומים )כגון הנדסת בניין, הנדסה כימית, הנדסת ביוטכנולוגיה, הנדסת מכונות,\n",
      "הנדסת חומרים ועוד(, �\n",
      "\n",
      "Relevant Document number 2: \n",
      "ר לתואר שני בהנדסה סביבתית\n",
      "תוכנית לימודים לתואר כפול: הנדסת בניין )התמחות במבנים( ומדעי כדור הארץ והסביבה\n",
      "תוכנית זו הינה ייחודית הנלמדת באוניברסיטת בן-גוריון בלבד. התוכנית נוסדה לשם מתן מענה אקדמי לצורכי\n",
      "המדינה בתחום התשתיות הלאומיות, לקראת אתגרי העתיד.\n"
     ]
    }
   ],
   "source": [
    "question = \"מהם התחומים המרכזיים אותם מכסה המחלקה להנדסה אזרחית וסביבתית?\"\n",
    "source = \"374-2025.pdf\"\n",
    "\n",
    "answer_and_print(question, source)"
   ],
   "metadata": {
    "collapsed": false,
    "ExecuteTime": {
     "end_time": "2025-02-24T10:30:31.407857Z",
     "start_time": "2025-02-24T10:30:31.402234100Z"
    }
   }
  },
  {
   "cell_type": "markdown",
   "source": [
    "## Question 7 Analysis\n",
    "\n",
    "1. **Relevance of the Answer** - The answer is relevant, but was answered in English instead of Hebrew.\n",
    "2. **Completeness of Information** - The model took the parts of the documents it needed and expanded based on its knowledge\n",
    "3. **Clarity and Fluency** - The answer is not in the same language as the question.\n",
    "4. **Accuracy compared to the document** - The question is actually longer then the documents provided, also, the model hallucinated about topics like industrial engineering and secure systems, that were not mentioned in the context.\n",
    "5. **Overall Assessment** - The model mostly did give relevant and true information, but generated the answer in the wrong language and hallucinated some topics."
   ],
   "metadata": {
    "collapsed": false
   }
  },
  {
   "cell_type": "markdown",
   "source": [
    "# Question 8"
   ],
   "metadata": {
    "collapsed": false
   }
  },
  {
   "cell_type": "code",
   "execution_count": 106,
   "outputs": [
    {
     "name": "stderr",
     "output_type": "stream",
     "text": [
      "No sentence-transformers model found with name dicta-il/dictabert. Creating a new one with mean pooling.\n",
      "Some weights of BertModel were not initialized from the model checkpoint at dicta-il/dictabert and are newly initialized: ['bert.pooler.dense.bias', 'bert.pooler.dense.weight']\n",
      "You should probably TRAIN this model on a down-stream task to be able to use it for predictions and inference.\n"
     ]
    },
    {
     "name": "stdout",
     "output_type": "stream",
     "text": [
      "Question: \n",
      "מדוע חשוב לשלב קורסים באנגלית בתכנית להנדסת תוכנה? \n",
      "\n",
      "Answer: \n",
      "השלב של קורסים באנגלית בתכנית להנדסת תוכנה חשוב כדי לספק לתלמידים את הכשרה הדרושה לע世ת העולמית, כולל יכולת קריאה וכתיבה באנגלית בהקשר טכנולוגי. בנוסף, הקורסים בשפה הזו משפרים את המומחיות של הסטודנטים, מה שמאפשר להם להבין וללavor עם חומרテכני מובgliון. לבסוף, זוהי דרישה רשמית לתואר הראשון במדעי המחשב והנדסה.\n",
      "\n",
      "Out of the top 10 retrieved documents, This is the ones that came from the relevant pdf:\n",
      "\n",
      "Relevant Document number 1: \n",
      "יד שלא השלים את הקורסים העודפים, אך השלים תכנית לימודים מלאה של הנדסת תוכנה ועמד ביתר\n",
      "התנאים של המגמה, יוכל לקבל תואר ראשון בהנדסת תוכנה במגמת פסגות.\n",
      "13\n",
      " \n",
      "\n",
      "Relevant Document number 2: \n",
      "�הנדסת תוכנה.\n",
      "קורסים בשפה האנגלית: החל משנת הלימודים תשפ \"ב, חייב כל סטודנט ללמוד במסגרת לימודיו לתואר ראשון\n",
      "במחלקה לפחות שני הקורסים בשפה האנגלית, בהיקף של לפחות 2 נק\"ז. כדי לעמוד בחובה זו , תלמידי\n",
      "התוכנית להכנסת תוכנה ילמדו את הקורס מבוא לתקשורת נת\n",
      "\n",
      "Relevant Document number 3: \n",
      "\n",
      "והרוח. השנה הרביעית מתמקדת בקורסי בחירה ובפרויקט הנדסי שנתי. פרויקט זה ניתן לביצוע בשיתוף פעולה\n",
      "עם גורמים בתעשייה .\n",
      "סיכום דרישות לתואר בתוכנית הלימודים בהנדסת – תוכנה:\n",
      "מקצועות חובה בהנדסת תוכנה 48\n",
      "מקצועות חובה באלגוריתמיקה 28.5\n",
      "מקצועות חובה בנושאי מחשוב 26\n",
      "מ�\n",
      "\n",
      "Relevant Document number 4: \n",
      "�גמת מצוינות להנדסת תוכנה במסגרת תכנית \"פסגות\"\n",
      "מגמת \"פסגות \" מיועדת לסטודנטים מצטיינים של העתודה האקדמית. המגמה כוללת לימודים אינטנסיביים\n",
      "ומאתגרים ומאפשרת לסיים תוך ארבע שנים את הלימודים לתואר ראשון בהנדסת תוכנה וכן את קורסי תואר\n",
      "שני במחלקה למדעי\n"
     ]
    }
   ],
   "source": [
    "question = \"מדוע חשוב לשלב קורסים באנגלית בתכנית להנדסת תוכנה?\"\n",
    "source = \"373-2025.pdf\"\n",
    "\n",
    "answer_and_print(question, source)"
   ],
   "metadata": {
    "collapsed": false,
    "ExecuteTime": {
     "end_time": "2025-02-24T13:34:17.769938100Z",
     "start_time": "2025-02-24T13:31:55.143442500Z"
    }
   }
  },
  {
   "cell_type": "markdown",
   "source": [
    "### Question 8 Analysis\n",
    "\n",
    "1. **Relevance of the Answer** - The describes exactly why its important to learn English for program engineering.\n",
    "2. **Completeness of Information** - The answer mentions that you will need to do English courses, but it doesn't meantion how much.\n",
    "3. **Clarity and Fluency** - The answer is not clear, having major and multiple types, even showing some chinese characters. The model did return most of the answer in the same language the question was asked in.\n",
    "4. **Accuracy compared to the document** - The answer is not very based on the context, as the context doesnt meantion anything about how reading and writing capabilities help understanding technological context.\n",
    "5. **Overall Assessment** - Overall, the answer was relevant, but it wasn't accurate and had multiple major typos."
   ],
   "metadata": {
    "collapsed": false
   }
  },
  {
   "cell_type": "markdown",
   "source": [
    "# Question 9"
   ],
   "metadata": {
    "collapsed": false
   }
  },
  {
   "cell_type": "code",
   "execution_count": 108,
   "outputs": [
    {
     "name": "stderr",
     "output_type": "stream",
     "text": [
      "No sentence-transformers model found with name dicta-il/dictabert. Creating a new one with mean pooling.\n",
      "Some weights of BertModel were not initialized from the model checkpoint at dicta-il/dictabert and are newly initialized: ['bert.pooler.dense.bias', 'bert.pooler.dense.weight']\n",
      "You should probably TRAIN this model on a down-stream task to be able to use it for predictions and inference.\n"
     ]
    },
    {
     "name": "stdout",
     "output_type": "stream",
     "text": [
      "Question: \n",
      "מי ניצח בפרסי הגראמי בשנת 2025? \n",
      "\n",
      "Answer: \n",
      "I do not have information about the 2025 Grammy Awards winners based on the provided context.\n",
      "\n",
      "Out of the top 10 retrieved documents, This is the ones that came from the relevant pdf:\n",
      "\n",
      "No relevant documents found\n"
     ]
    }
   ],
   "source": [
    "question = \"מי ניצח בפרסי הגראמי בשנת 2025?\"\n",
    "\n",
    "answer_and_print(question)"
   ],
   "metadata": {
    "collapsed": false,
    "ExecuteTime": {
     "end_time": "2025-02-24T13:52:06.919341900Z",
     "start_time": "2025-02-24T13:48:40.316820100Z"
    }
   }
  },
  {
   "cell_type": "markdown",
   "source": [
    "### Question 9 Analysis\n",
    "\n",
    "1. **Relevance of the Answer** - No relevant document, so irrelevant\n",
    "2. **Completeness of Information** - No relevant document, so irrelevant\n",
    "3. **Clarity and Fluency** - The answer is readable, but not in the same language as the question's language.\n",
    "4. **Accuracy compared to the document** -No relevant document, so irrelevant\n",
    "5. **Overall Assessment** - The model answered as we hoped, saying it doesn't know. A better answer though would have been a short \"I don't know\""
   ],
   "metadata": {
    "collapsed": false
   }
  },
  {
   "cell_type": "markdown",
   "source": [
    "# Question 10"
   ],
   "metadata": {
    "collapsed": false
   }
  },
  {
   "cell_type": "code",
   "execution_count": 109,
   "outputs": [
    {
     "name": "stderr",
     "output_type": "stream",
     "text": [
      "No sentence-transformers model found with name dicta-il/dictabert. Creating a new one with mean pooling.\n",
      "Some weights of BertModel were not initialized from the model checkpoint at dicta-il/dictabert and are newly initialized: ['bert.pooler.dense.bias', 'bert.pooler.dense.weight']\n",
      "You should probably TRAIN this model on a down-stream task to be able to use it for predictions and inference.\n"
     ]
    },
    {
     "name": "stdout",
     "output_type": "stream",
     "text": [
      "Question: \n",
      "איך קראו למטוס הסודי של חיל האוויר הישראלי שהיה מסוגל לטוס במהירות פי 5 ממהירות הקול בשנות ה-80? \n",
      "\n",
      "Answer: \n",
      "I do not have information on the specific Israeli stealth fighter jet from the 1980s.\n",
      "\n",
      "Out of the top 10 retrieved documents, This is the ones that came from the relevant pdf:\n",
      "\n",
      "No relevant documents found\n"
     ]
    }
   ],
   "source": [
    "question = \"איך קראו למטוס הסודי של חיל האוויר הישראלי שהיה מסוגל לטוס במהירות פי 5 ממהירות הקול בשנות ה-80?\"\n",
    "\n",
    "answer_and_print(question)"
   ],
   "metadata": {
    "collapsed": false,
    "ExecuteTime": {
     "end_time": "2025-02-24T13:53:21.529334100Z",
     "start_time": "2025-02-24T13:52:06.920338700Z"
    }
   }
  },
  {
   "cell_type": "markdown",
   "source": [
    "### Question 10 Analysis\n",
    "\n",
    "1. **Relevance of the Answer** - No relevant document, so irrelevant\n",
    "2. **Completeness of Information** - No relevant document, so irrelevant\n",
    "3. **Clarity and Fluency** - The answer is readable, but not in the same language as the question's language.\n",
    "4. **Accuracy compared to the document** -No relevant document, so irrelevant\n",
    "5. **Overall Assessment** - The model answered as we hoped, saying it doesn't know. A better answer though would have been a short \"I don't know\""
   ],
   "metadata": {
    "collapsed": false
   }
  },
  {
   "cell_type": "markdown",
   "source": [],
   "metadata": {
    "collapsed": false
   }
  }
 ],
 "metadata": {
  "kernelspec": {
   "display_name": "Python 3",
   "language": "python",
   "name": "python3"
  },
  "language_info": {
   "codemirror_mode": {
    "name": "ipython",
    "version": 2
   },
   "file_extension": ".py",
   "mimetype": "text/x-python",
   "name": "python",
   "nbconvert_exporter": "python",
   "pygments_lexer": "ipython2",
   "version": "2.7.6"
  }
 },
 "nbformat": 4,
 "nbformat_minor": 0
}
